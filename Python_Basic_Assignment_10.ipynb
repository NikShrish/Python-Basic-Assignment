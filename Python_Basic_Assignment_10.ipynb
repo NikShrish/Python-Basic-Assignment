{
  "nbformat": 4,
  "nbformat_minor": 0,
  "metadata": {
    "colab": {
      "name": "Python_Basic_Assignment_10.ipynb",
      "provenance": []
    },
    "kernelspec": {
      "name": "python3",
      "display_name": "Python 3"
    },
    "language_info": {
      "name": "python"
    }
  },
  "cells": [
    {
      "cell_type": "markdown",
      "metadata": {
        "id": "Fu54iOHMm7Fz"
      },
      "source": [
        "1. How do you distinguish between shutil.copy() and shutil.copytree()?\n",
        "2. What function is used to rename files??\n",
        "3. What is the difference between the delete functions in the send2trash and shutil modules?\n",
        "4.ZipFile objects have a close() method just like File objects’ close() method. What ZipFile method is\n",
        "equivalent to File objects’ open() method?\n",
        "5. Create a programme that searches a folder tree for files with a certain file extension (such as .pdf\n",
        "or .jpg). Copy these files from whatever location they are in to a new folder."
      ]
    },
    {
      "cell_type": "markdown",
      "metadata": {
        "id": "qt3XThf-nDdx"
      },
      "source": [
        "##1. How do you distinguish between shutil.copy() and shutil.copytree()?\n",
        "\n",
        "shutil.copy() will copy only a file.\n",
        "\n",
        "shutil.copytree() copy entire folder and file and folders contained in it."
      ]
    },
    {
      "cell_type": "markdown",
      "metadata": {
        "id": "9TjLJcHinc2Q"
      },
      "source": [
        "##2. What function is used to rename files??\n",
        "\n",
        "os.rename function will allows you to rename the file."
      ]
    },
    {
      "cell_type": "markdown",
      "metadata": {
        "id": "TK3eQ2gLnxpk"
      },
      "source": [
        "##3. What is the difference between the delete functions in the send2trash and shutil modules?\n",
        "\n",
        "shutil module will delete the file or folder permanently.\n",
        "\n",
        "send2trash will move the file or folder in recycle bin."
      ]
    },
    {
      "cell_type": "markdown",
      "metadata": {
        "id": "OoLbkg9VoTq5"
      },
      "source": [
        "##4. ZipFile objects have a close() method just like File objects’ close() method. What ZipFile method is equivalent to File objects’ open() method?\n",
        "\n",
        "ZipFile()"
      ]
    },
    {
      "cell_type": "markdown",
      "metadata": {
        "id": "kA5VpyvYpMCy"
      },
      "source": [
        "##5. Create a programme that searches a folder tree for files with a certain file extension (such as .pdf or .jpg). Copy these files from whatever location they are in to a new folder."
      ]
    },
    {
      "cell_type": "code",
      "metadata": {
        "id": "zXsFljPkm6DU",
        "colab": {
          "base_uri": "https://localhost:8080/"
        },
        "outputId": "fbaaa29f-7dad-4caf-fa5d-f6819c6d1862"
      },
      "source": [
        "import os, shutil\n",
        "\n",
        "def selectfolder(folder, extensions, dest):\n",
        "\tfolder = os.path.abspath(folder)\n",
        "\tdest = os.path.abspath(destFolder)\n",
        "\tprint('Looking in', folder, 'for files with extensions of', ', '.join(extensions))\n",
        "\tfor foldername, subfolders, filenames in os.walk(folder):\n",
        "\t\tfor filename in filenames:\n",
        "\t\t\tname, extension = os.path.splitext(filename)\n",
        "\t\t\tif extension in extensions:\n",
        "\t\t\t\tfileAbsPath = foldername + os.path.sep + filename\n",
        "\t\t\t\tprint('Coping', fileAbsPath, 'to', dest)\n",
        "\t\t\t\tshutil.copy(fileAbsPath, dest)\n",
        "\n",
        "extensions = ['.php', '.py','.txt','.jpg','.JPG']\n",
        "folder = 'randomFolder'\n",
        "dest = 'selectiveFolder'\n",
        "selectfolder(folder, extensions, dest)"
      ],
      "execution_count": 5,
      "outputs": [
        {
          "output_type": "stream",
          "text": [
            "Looking in /content/randomFolder for files with extensions of .php, .py, .txt, .jpg, .JPG\n"
          ],
          "name": "stdout"
        }
      ]
    },
    {
      "cell_type": "code",
      "metadata": {
        "id": "IZdgPTmi_SQN"
      },
      "source": [
        ""
      ],
      "execution_count": null,
      "outputs": []
    }
  ]
}