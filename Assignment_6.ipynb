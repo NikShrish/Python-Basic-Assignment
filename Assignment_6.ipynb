{
  "nbformat": 4,
  "nbformat_minor": 0,
  "metadata": {
    "colab": {
      "name": "Assignment 6.ipynb",
      "provenance": []
    },
    "kernelspec": {
      "name": "python3",
      "display_name": "Python 3"
    },
    "language_info": {
      "name": "python"
    }
  },
  "cells": [
    {
      "cell_type": "markdown",
      "metadata": {
        "id": "x9l8d5y-PT8Z"
      },
      "source": [
        "#Nikita Patil"
      ]
    },
    {
      "cell_type": "markdown",
      "metadata": {
        "id": "13loABpKPPI7"
      },
      "source": [
        "##1. What are escape characters, and how do you use them?\n",
        "\n",
        "---> some characters are illegal in string and if you want to insert that then we have use back slash(\\) followed by character to insert that character."
      ]
    },
    {
      "cell_type": "markdown",
      "metadata": {
        "id": "II7inBeSP8Lm"
      },
      "source": [
        "##2. What do the escape characters n and t stand for?\n",
        "\n",
        "--->\\t represents tab and \\n represents new line."
      ]
    },
    {
      "cell_type": "markdown",
      "metadata": {
        "id": "amm86XpeQYNS"
      },
      "source": [
        "##3. What is the way to include backslash characters in a string?"
      ]
    },
    {
      "cell_type": "code",
      "metadata": {
        "id": "MXDtMyjnPSeQ",
        "colab": {
          "base_uri": "https://localhost:8080/"
        },
        "outputId": "ba8f69df-73ac-4b56-81ab-33ef4966dade"
      },
      "source": [
        "print('mango\\torange')"
      ],
      "execution_count": 17,
      "outputs": [
        {
          "output_type": "stream",
          "text": [
            "mango\torange\n"
          ],
          "name": "stdout"
        }
      ]
    },
    {
      "cell_type": "code",
      "metadata": {
        "colab": {
          "base_uri": "https://localhost:8080/"
        },
        "id": "TE-xHQVWJBii",
        "outputId": "71158714-aa52-4e62-991a-c230436d9625"
      },
      "source": [
        "#\\t--->tab\n",
        "\n",
        "print('I\\tlike\\tmango')"
      ],
      "execution_count": 21,
      "outputs": [
        {
          "output_type": "stream",
          "text": [
            "I\tlike\tmango\n"
          ],
          "name": "stdout"
        }
      ]
    },
    {
      "cell_type": "code",
      "metadata": {
        "colab": {
          "base_uri": "https://localhost:8080/"
        },
        "id": "WIFIu5h2HqkA",
        "outputId": "fea62550-2913-4b63-b474-b5ca4cf24d96"
      },
      "source": [
        "print('it\\'s raining')"
      ],
      "execution_count": 15,
      "outputs": [
        {
          "output_type": "stream",
          "text": [
            "it's raining\n"
          ],
          "name": "stdout"
        }
      ]
    },
    {
      "cell_type": "code",
      "metadata": {
        "colab": {
          "base_uri": "https://localhost:8080/"
        },
        "id": "gn-vsHG1I01p",
        "outputId": "ab5a918f-ba6a-41cd-91c1-2e263bcea249"
      },
      "source": [
        "#\\n--> new line\n",
        "\n",
        "print('I like mango\\n I like Orange')"
      ],
      "execution_count": 23,
      "outputs": [
        {
          "output_type": "stream",
          "text": [
            "I like mango\n",
            " I like Orange\n"
          ],
          "name": "stdout"
        }
      ]
    },
    {
      "cell_type": "markdown",
      "metadata": {
        "id": "KrA90nTYJwI4"
      },
      "source": [
        "\n",
        "## 4. The string &quot;Howl&#39;s Moving Castle&quot; is a correct value. Why isn&#39;t the single quote character in the word Howl&#39;s not escaped a problem?\n",
        "\n",
        "---> opened \" so need \" to end the string. single quote doesnt recognised.\n",
        "    \n",
        "    if we declare string in single quote then it will throw error."
      ]
    },
    {
      "cell_type": "code",
      "metadata": {
        "colab": {
          "base_uri": "https://localhost:8080/"
        },
        "id": "zyrrRub7Mo1X",
        "outputId": "481a52b3-39fc-47b6-8f85-e6961d82d3d0"
      },
      "source": [
        "print(\"Howl's Moving Castle\")"
      ],
      "execution_count": 33,
      "outputs": [
        {
          "output_type": "stream",
          "text": [
            "Howl's Moving Castle\n"
          ],
          "name": "stdout"
        }
      ]
    },
    {
      "cell_type": "code",
      "metadata": {
        "colab": {
          "base_uri": "https://localhost:8080/",
          "height": 129
        },
        "id": "L0yVTUsPJfPA",
        "outputId": "0f3af1bf-d2ac-4da0-8c00-f28bb847f34f"
      },
      "source": [
        "s='Howl's Moving castle'"
      ],
      "execution_count": 34,
      "outputs": [
        {
          "output_type": "error",
          "ename": "SyntaxError",
          "evalue": "ignored",
          "traceback": [
            "\u001b[0;36m  File \u001b[0;32m\"<ipython-input-34-5ff8124c38f9>\"\u001b[0;36m, line \u001b[0;32m1\u001b[0m\n\u001b[0;31m    s='Howl's Moving castle'\u001b[0m\n\u001b[0m            ^\u001b[0m\n\u001b[0;31mSyntaxError\u001b[0m\u001b[0;31m:\u001b[0m invalid syntax\n"
          ]
        }
      ]
    },
    {
      "cell_type": "markdown",
      "metadata": {
        "id": "hUaCs0BBNd5_"
      },
      "source": [
        "##5. How do you write a string of newlines if you don&#39;t want to use the n character?"
      ]
    },
    {
      "cell_type": "code",
      "metadata": {
        "colab": {
          "base_uri": "https://localhost:8080/"
        },
        "id": "DI4jG1U5J-X4",
        "outputId": "c657effe-6515-4f44-df8d-9e98b83d13c2"
      },
      "source": [
        "print('I like banana')\n",
        "print('I like orange')"
      ],
      "execution_count": 28,
      "outputs": [
        {
          "output_type": "stream",
          "text": [
            "I like banana\n",
            "I like orange\n"
          ],
          "name": "stdout"
        }
      ]
    },
    {
      "cell_type": "markdown",
      "metadata": {
        "id": "J2qhkuntzkLQ"
      },
      "source": [
        "## 6. What are the values of the given expressions?\n"
      ]
    },
    {
      "cell_type": "code",
      "metadata": {
        "colab": {
          "base_uri": "https://localhost:8080/",
          "height": 35
        },
        "id": "siKujRqqNmmG",
        "outputId": "bee89be0-e793-43c1-9aad-0ba0324a73a9"
      },
      "source": [
        "'Hello, world!'[1]   #it will display value which is at index 1"
      ],
      "execution_count": 3,
      "outputs": [
        {
          "output_type": "execute_result",
          "data": {
            "application/vnd.google.colaboratory.intrinsic+json": {
              "type": "string"
            },
            "text/plain": [
              "'e'"
            ]
          },
          "metadata": {
            "tags": []
          },
          "execution_count": 3
        }
      ]
    },
    {
      "cell_type": "code",
      "metadata": {
        "colab": {
          "base_uri": "https://localhost:8080/",
          "height": 35
        },
        "id": "OmBe5fCxzv5l",
        "outputId": "7cef7cd8-97fc-499e-c2ef-ba76f3e8ac79"
      },
      "source": [
        "'Hello, world!'[0:5]   # It will display first 5 values i.e. Hello"
      ],
      "execution_count": 5,
      "outputs": [
        {
          "output_type": "execute_result",
          "data": {
            "application/vnd.google.colaboratory.intrinsic+json": {
              "type": "string"
            },
            "text/plain": [
              "'Hello'"
            ]
          },
          "metadata": {
            "tags": []
          },
          "execution_count": 5
        }
      ]
    },
    {
      "cell_type": "code",
      "metadata": {
        "colab": {
          "base_uri": "https://localhost:8080/",
          "height": 35
        },
        "id": "9DJnNH8k0Q2b",
        "outputId": "185eac76-ef1b-4fb3-a550-3b3c310d9316"
      },
      "source": [
        "'Hello, world!'[:5]  #It will display first 5 values as default start index is 0 "
      ],
      "execution_count": 6,
      "outputs": [
        {
          "output_type": "execute_result",
          "data": {
            "application/vnd.google.colaboratory.intrinsic+json": {
              "type": "string"
            },
            "text/plain": [
              "'Hello'"
            ]
          },
          "metadata": {
            "tags": []
          },
          "execution_count": 6
        }
      ]
    },
    {
      "cell_type": "code",
      "metadata": {
        "colab": {
          "base_uri": "https://localhost:8080/",
          "height": 35
        },
        "id": "VZEMRGVt8UMR",
        "outputId": "2a06ee67-af54-44e4-b4bc-c29f45616a4e"
      },
      "source": [
        "'Hello, world!'[3:] #It will display all values from index 3  i.e. lo, world!"
      ],
      "execution_count": 7,
      "outputs": [
        {
          "output_type": "execute_result",
          "data": {
            "application/vnd.google.colaboratory.intrinsic+json": {
              "type": "string"
            },
            "text/plain": [
              "'lo, world!'"
            ]
          },
          "metadata": {
            "tags": []
          },
          "execution_count": 7
        }
      ]
    },
    {
      "cell_type": "markdown",
      "metadata": {
        "id": "LycBNOb29XKW"
      },
      "source": [
        "## 7. What are the values of the following expressions?"
      ]
    },
    {
      "cell_type": "code",
      "metadata": {
        "colab": {
          "base_uri": "https://localhost:8080/",
          "height": 35
        },
        "id": "iSka1p6o9N95",
        "outputId": "4d1590ac-48a3-4583-d9b4-47a0e5d5407e"
      },
      "source": [
        "'Hello'.upper()  #convert string in uppercase"
      ],
      "execution_count": 9,
      "outputs": [
        {
          "output_type": "execute_result",
          "data": {
            "application/vnd.google.colaboratory.intrinsic+json": {
              "type": "string"
            },
            "text/plain": [
              "'HELLO'"
            ]
          },
          "metadata": {
            "tags": []
          },
          "execution_count": 9
        }
      ]
    },
    {
      "cell_type": "code",
      "metadata": {
        "colab": {
          "base_uri": "https://localhost:8080/"
        },
        "id": "ftpdhuJc9k1m",
        "outputId": "89559820-04fa-4d82-f10b-d6d31ed8eaa8"
      },
      "source": [
        "'Hello'.upper().isupper() #  It will display that string is in upper case or not"
      ],
      "execution_count": 14,
      "outputs": [
        {
          "output_type": "execute_result",
          "data": {
            "text/plain": [
              "True"
            ]
          },
          "metadata": {
            "tags": []
          },
          "execution_count": 14
        }
      ]
    },
    {
      "cell_type": "code",
      "metadata": {
        "colab": {
          "base_uri": "https://localhost:8080/",
          "height": 35
        },
        "id": "CTCH8Yn495-5",
        "outputId": "4dcb7055-4704-4bbf-f337-aa1047fa6fba"
      },
      "source": [
        "'Hello'.upper().lower()  #it will convert string first into upper then into lower"
      ],
      "execution_count": 13,
      "outputs": [
        {
          "output_type": "execute_result",
          "data": {
            "application/vnd.google.colaboratory.intrinsic+json": {
              "type": "string"
            },
            "text/plain": [
              "'hello'"
            ]
          },
          "metadata": {
            "tags": []
          },
          "execution_count": 13
        }
      ]
    },
    {
      "cell_type": "markdown",
      "metadata": {
        "id": "8uyBQYZb_fxT"
      },
      "source": [
        "##8. What are the values of the following expressions?"
      ]
    },
    {
      "cell_type": "code",
      "metadata": {
        "colab": {
          "base_uri": "https://localhost:8080/"
        },
        "id": "eZF97bve-nak",
        "outputId": "d6004260-3dc0-4257-d6bf-4b79c0ce3a46"
      },
      "source": [
        "'Remember, remember, the fifth of July.'.split()"
      ],
      "execution_count": 15,
      "outputs": [
        {
          "output_type": "execute_result",
          "data": {
            "text/plain": [
              "['Remember,', 'remember,', 'the', 'fifth', 'of', 'July.']"
            ]
          },
          "metadata": {
            "tags": []
          },
          "execution_count": 15
        }
      ]
    },
    {
      "cell_type": "code",
      "metadata": {
        "colab": {
          "base_uri": "https://localhost:8080/",
          "height": 35
        },
        "id": "a2YTJSvm_pO3",
        "outputId": "b1e3ef41-0996-4bf5-94ec-e36f7ff8ac29"
      },
      "source": [
        "'-'.join('There can only one.'.split())"
      ],
      "execution_count": 16,
      "outputs": [
        {
          "output_type": "execute_result",
          "data": {
            "application/vnd.google.colaboratory.intrinsic+json": {
              "type": "string"
            },
            "text/plain": [
              "'There-can-only-one.'"
            ]
          },
          "metadata": {
            "tags": []
          },
          "execution_count": 16
        }
      ]
    },
    {
      "cell_type": "markdown",
      "metadata": {
        "id": "Ks4M2mnQAEpK"
      },
      "source": [
        "##9. What are the methods for right-justifying, left-justifying, and centering a string?\n",
        "\n",
        "---> left-justify -ljust()\n",
        "     \n",
        "     right justify-rjust()\n",
        "\n",
        "     center-center()"
      ]
    },
    {
      "cell_type": "code",
      "metadata": {
        "id": "ixZETWy-_5Qr"
      },
      "source": [
        "#eg.\n",
        "s=\"I like Python\" "
      ],
      "execution_count": 20,
      "outputs": []
    },
    {
      "cell_type": "code",
      "metadata": {
        "colab": {
          "base_uri": "https://localhost:8080/",
          "height": 35
        },
        "id": "EmV0zgxjgO1k",
        "outputId": "0b352900-f66e-49e3-a18b-93df8488b044"
      },
      "source": [
        "s.center(30)"
      ],
      "execution_count": 22,
      "outputs": [
        {
          "output_type": "execute_result",
          "data": {
            "application/vnd.google.colaboratory.intrinsic+json": {
              "type": "string"
            },
            "text/plain": [
              "'        I like Python         '"
            ]
          },
          "metadata": {
            "tags": []
          },
          "execution_count": 22
        }
      ]
    },
    {
      "cell_type": "code",
      "metadata": {
        "colab": {
          "base_uri": "https://localhost:8080/",
          "height": 35
        },
        "id": "Qy4uVhfdgfoh",
        "outputId": "35c742eb-8359-4e5b-b2a8-929721123638"
      },
      "source": [
        "s.center(30,'$')"
      ],
      "execution_count": 24,
      "outputs": [
        {
          "output_type": "execute_result",
          "data": {
            "application/vnd.google.colaboratory.intrinsic+json": {
              "type": "string"
            },
            "text/plain": [
              "'$$$$$$$$I like Python$$$$$$$$$'"
            ]
          },
          "metadata": {
            "tags": []
          },
          "execution_count": 24
        }
      ]
    },
    {
      "cell_type": "code",
      "metadata": {
        "colab": {
          "base_uri": "https://localhost:8080/",
          "height": 35
        },
        "id": "FVhFojdygo9R",
        "outputId": "822bafe1-0fc8-4347-8b48-c712120f781a"
      },
      "source": [
        "s.ljust(30)"
      ],
      "execution_count": 25,
      "outputs": [
        {
          "output_type": "execute_result",
          "data": {
            "application/vnd.google.colaboratory.intrinsic+json": {
              "type": "string"
            },
            "text/plain": [
              "'I like Python                 '"
            ]
          },
          "metadata": {
            "tags": []
          },
          "execution_count": 25
        }
      ]
    },
    {
      "cell_type": "code",
      "metadata": {
        "colab": {
          "base_uri": "https://localhost:8080/",
          "height": 35
        },
        "id": "F63x3YwCgsUl",
        "outputId": "f77234e5-9ffc-4533-b507-66c9f4d56585"
      },
      "source": [
        "s.rjust(30)"
      ],
      "execution_count": 26,
      "outputs": [
        {
          "output_type": "execute_result",
          "data": {
            "application/vnd.google.colaboratory.intrinsic+json": {
              "type": "string"
            },
            "text/plain": [
              "'                 I like Python'"
            ]
          },
          "metadata": {
            "tags": []
          },
          "execution_count": 26
        }
      ]
    },
    {
      "cell_type": "markdown",
      "metadata": {
        "id": "WwpHZxgaAKlc"
      },
      "source": [
        "## 10. What is the best way to remove whitespace characters from the start or end?\n",
        "\n",
        "\n",
        "---> split() can remove the whitespace from start and end of the string"
      ]
    },
    {
      "cell_type": "code",
      "metadata": {
        "id": "YBnW5KRXALMh"
      },
      "source": [
        "#eg.\n",
        "s=\"              Hello       \".split()"
      ],
      "execution_count": 19,
      "outputs": []
    },
    {
      "cell_type": "code",
      "metadata": {
        "colab": {
          "base_uri": "https://localhost:8080/"
        },
        "id": "_oHwlqzaChxt",
        "outputId": "5fa6bbec-44f2-4cbd-9d6b-e801cfe7e5b0"
      },
      "source": [
        "s"
      ],
      "execution_count": 18,
      "outputs": [
        {
          "output_type": "execute_result",
          "data": {
            "text/plain": [
              "['Hello']"
            ]
          },
          "metadata": {
            "tags": []
          },
          "execution_count": 18
        }
      ]
    }
  ]
}