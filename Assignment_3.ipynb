{
  "nbformat": 4,
  "nbformat_minor": 0,
  "metadata": {
    "colab": {
      "name": "Assignment 3.ipynb",
      "provenance": []
    },
    "kernelspec": {
      "name": "python3",
      "display_name": "Python 3"
    },
    "language_info": {
      "name": "python"
    }
  },
  "cells": [
    {
      "cell_type": "markdown",
      "metadata": {
        "id": "OIBvfcmTU9DF"
      },
      "source": [
        "#Nikita Nagraj"
      ]
    },
    {
      "cell_type": "markdown",
      "metadata": {
        "id": "isc8GyATVB6_"
      },
      "source": [
        "#1. Why are functions advantageous to have in your programs?\n",
        "\n",
        "---> To minimize the code\n",
        "\n",
        "     Using functions we can reuse the code.\n",
        "\n",
        "     reduces redundant code.\n",
        "\n",
        "     Easy to update and read."
      ]
    },
    {
      "cell_type": "markdown",
      "metadata": {
        "id": "NCBggb7zVqKj"
      },
      "source": [
        "#2. When does the code in a function run: when it&#39;s specified or when it&#39;s called?\n",
        "\n",
        "---> The code in a function runs when it gets called by calling function."
      ]
    },
    {
      "cell_type": "markdown",
      "metadata": {
        "id": "dMHG1DsqV5RD"
      },
      "source": [
        "#3. What statement creates a function?\n",
        "\n",
        "---> To create function we have to use def keyword\n",
        "     \n",
        "     def function_name\n",
        "\n",
        "     eg:"
      ]
    },
    {
      "cell_type": "code",
      "metadata": {
        "id": "G1h6gEVaVA7F"
      },
      "source": [
        "def hello():\n",
        "  print(\"hello world\")"
      ],
      "execution_count": 1,
      "outputs": []
    },
    {
      "cell_type": "code",
      "metadata": {
        "colab": {
          "base_uri": "https://localhost:8080/"
        },
        "id": "BRXZhxI3WjY3",
        "outputId": "be721395-89c9-4742-a12f-723d1527ead2"
      },
      "source": [
        "hello()"
      ],
      "execution_count": 2,
      "outputs": [
        {
          "output_type": "stream",
          "text": [
            "hello world\n"
          ],
          "name": "stdout"
        }
      ]
    },
    {
      "cell_type": "markdown",
      "metadata": {
        "id": "V3QzcemqWuyn"
      },
      "source": [
        "#4. What is the difference between a function and a function call?\n",
        "\n",
        "---> function: function can be declared using def keyword. In function we can perform perticular task. Logic of the operation we have to write inside the function.\n",
        "\n",
        "Function call:function can be called using function name. We can acheieve the task using function call. We can pass the data to function while calling the function.\n"
      ]
    },
    {
      "cell_type": "markdown",
      "metadata": {
        "id": "xmIRH-DLX3Kc"
      },
      "source": [
        "#5. How many global scopes are there in a Python program? How many local scopes?\n",
        "\n",
        "---> When function is called there is only one local scope and one global scope created."
      ]
    },
    {
      "cell_type": "markdown",
      "metadata": {
        "id": "dDPvu0zUaISA"
      },
      "source": [
        "#6. What happens to variables in a local scope when the function call returns?\n",
        "\n",
        "\n",
        "---> The local scope gets destroy."
      ]
    },
    {
      "cell_type": "markdown",
      "metadata": {
        "id": "HBDEZyUgaNON"
      },
      "source": [
        "#7. What is the concept of a return value? Is it possible to have a return value in an expression?\n",
        "\n",
        "\n",
        "---> return value is value that function call can achieve. we can even use expression as return value."
      ]
    },
    {
      "cell_type": "markdown",
      "metadata": {
        "id": "T4_sFAy5aT--"
      },
      "source": [
        "#8. If a function does not have a return statement, what is the return value of a call to that function?\n",
        "\n",
        "--->None."
      ]
    },
    {
      "cell_type": "markdown",
      "metadata": {
        "id": "kNQv_Ws2aZNv"
      },
      "source": [
        "#9. How do you make a function variable refer to the global variable?\n",
        "\n",
        "\n",
        "---> Using global statement we can make function variable refer to global variable."
      ]
    },
    {
      "cell_type": "markdown",
      "metadata": {
        "id": "imif_6AvZnzE"
      },
      "source": [
        "#10. What is the data type of None?\n",
        "\n",
        "--->NoneType"
      ]
    },
    {
      "cell_type": "code",
      "metadata": {
        "colab": {
          "base_uri": "https://localhost:8080/"
        },
        "id": "OxCk8T-hWl7U",
        "outputId": "c5d82a6c-bc77-4e9d-9e7c-b4e346cb3557"
      },
      "source": [
        "type(None)"
      ],
      "execution_count": 3,
      "outputs": [
        {
          "output_type": "execute_result",
          "data": {
            "text/plain": [
              "NoneType"
            ]
          },
          "metadata": {
            "tags": []
          },
          "execution_count": 3
        }
      ]
    },
    {
      "cell_type": "markdown",
      "metadata": {
        "id": "pY3SAdUdaed7"
      },
      "source": [
        "#11. What does the sentence import areallyourpetsnamederic do?\n",
        "\n",
        "---> import statement will import areallyourpetsnamederic. (This module is not available)"
      ]
    },
    {
      "cell_type": "markdown",
      "metadata": {
        "id": "BLORA92QaiR6"
      },
      "source": [
        "#12. If you had a bacon() feature in a spam module, what would you call it after importing spam?\n",
        "\n",
        "\n",
        "---> spam.bacon()"
      ]
    },
    {
      "cell_type": "markdown",
      "metadata": {
        "id": "B0w2E1bCanKz"
      },
      "source": [
        "#13. What can you do to save a programme from crashing if it encounters an error?\n",
        "\n",
        "---> we can use exception handling functions i.e. try to save the programme from crashing if it encounters an error. \n",
        "\n",
        "We have to put lines inside catch block which might throw an exception."
      ]
    },
    {
      "cell_type": "markdown",
      "metadata": {
        "id": "y3c-45H_ashq"
      },
      "source": [
        "#14. What is the purpose of the try clause? What is the purpose of the except clause?\n",
        "\n",
        "---> Try statement- It includes keyword try. Try can have more than one exceptblock.\n",
        "\n",
        "    If any error occurs in try block then control goes to except block. \n",
        "    \n",
        "    If there is no error in try block then interpreter ignores the except block .\n",
        "\n",
        "    Except block- except block handles the exceptions."
      ]
    }
  ]
}