{
  "nbformat": 4,
  "nbformat_minor": 0,
  "metadata": {
    "colab": {
      "name": "Assignment1.ipynb",
      "provenance": []
    },
    "kernelspec": {
      "name": "python3",
      "display_name": "Python 3"
    },
    "language_info": {
      "name": "python"
    }
  },
  "cells": [
    {
      "cell_type": "markdown",
      "metadata": {
        "id": "RCtyjDRtQ1Ri"
      },
      "source": [
        "#Nikita Nagraj"
      ]
    },
    {
      "cell_type": "markdown",
      "metadata": {
        "id": "CUan4XWjQgx9"
      },
      "source": [
        "# 1. In the below elements which of them are values or an expression? eg:- values can be integer or string and expressions will be mathematical operators.\n",
        "### * --> expression\n",
        "\n",
        "### &#39;hello&#39; --->value\n",
        "\n",
        "### -87.8 ---> value\n",
        "\n",
        "### - ---> expression\n",
        "\n",
        "\n",
        "### / ----> expression\n",
        "\n",
        "### +  -----> expression\n",
        "\n",
        "### 6  ----> value"
      ]
    },
    {
      "cell_type": "markdown",
      "metadata": {
        "id": "dU7kGaX6SLWo"
      },
      "source": [
        "# 2. What is the difference between string and variable?\n",
        "\n",
        "String is a type of data whereas variable is a piece of memory where we can store data. we can store string type of data in variable using assignment operator(=). string enclosed in ' ' or \" \".\n",
        "\n",
        "## eg: a=\"hello\"\n",
        "\n",
        "a is a variable and hello is a string."
      ]
    },
    {
      "cell_type": "markdown",
      "metadata": {
        "id": "ambzeadqSOCV"
      },
      "source": [
        "# 3. Describe three different data types.\n",
        "\n",
        "###int--> it takes data is in integer format.\n",
        "\n",
        "eg. a=12\n",
        "\n",
        "###bool--> boolean datatype represented by 2 values i.e True and False.\n",
        "\n",
        "eg. b=True\n",
        "\n",
        "###str--> string datatype accepts letter, words, sentences, numbers enclosed in single quote or double quotes.\n",
        "\n",
        "eg. s=\"hello 5\""
      ]
    },
    {
      "cell_type": "markdown",
      "metadata": {
        "id": "c0ADsmafSNip"
      },
      "source": [
        "# 4. What is an expression made up of? What do all expressions do?\n",
        "\n",
        "Expression is made up of operators and operands. If you want to perform addition then you need minimum two operands and one operator.\n",
        "\n",
        "eg. a+b  ---> a and b are operands and + is operator.\n",
        "\n",
        "    a==b ---> a and b are operands and == is operator."
      ]
    },
    {
      "cell_type": "markdown",
      "metadata": {
        "id": "GdoBCMTjSNRH"
      },
      "source": [
        "# 5. This assignment statements, like spam = 10. What is the difference between an\n",
        "expression and a statement?\n",
        "\n",
        "expression is nothing but combination of operands and operator.\n",
        "\n",
        "###eg: a=10 and b=10 (assignment statement)\n",
        "\n",
        "if you want to check a and b are equal or not then we have to write expression a==b . Here == is comparision operator.\n",
        "\n",
        "###eg spam=10 \n",
        "\n",
        "Here = is assignment operator using which we can assign 10 value to variable spam. so it is assignment statement."
      ]
    },
    {
      "cell_type": "markdown",
      "metadata": {
        "id": "66tgj2W7ncks"
      },
      "source": [
        "# 6. After running the following code, what does the variable bacon contain?\n",
        "bacon = 22\n",
        "\n",
        "bacon + 1\n",
        "\n",
        "\n",
        "Ans ---> 23 (bacon is incremented by 1)"
      ]
    },
    {
      "cell_type": "markdown",
      "metadata": {
        "id": "Or8SWcLOnnHk"
      },
      "source": [
        "#7. What should the values of the following two terms be?\n",
        "#### &#39;spam&#39; + &#39;spamspam&#39;\n",
        "#### &#39;spam&#39; * 3\n",
        "\n",
        "for both statement we we will get 'spamspamspam'"
      ]
    },
    {
      "cell_type": "code",
      "metadata": {
        "colab": {
          "base_uri": "https://localhost:8080/",
          "height": 35
        },
        "id": "Xf82pll_nYgh",
        "outputId": "42aee425-9321-42c7-9d1a-e83a98aa253f"
      },
      "source": [
        "\n",
        "'spam' + 'spamspam'"
      ],
      "execution_count": 3,
      "outputs": [
        {
          "output_type": "execute_result",
          "data": {
            "application/vnd.google.colaboratory.intrinsic+json": {
              "type": "string"
            },
            "text/plain": [
              "'spamspamspam'"
            ]
          },
          "metadata": {
            "tags": []
          },
          "execution_count": 3
        }
      ]
    },
    {
      "cell_type": "code",
      "metadata": {
        "colab": {
          "base_uri": "https://localhost:8080/",
          "height": 35
        },
        "id": "pAAGg8AtoAxM",
        "outputId": "a7603bcc-8016-4db5-8a6f-09542badc29f"
      },
      "source": [
        "'spam' * 3"
      ],
      "execution_count": 4,
      "outputs": [
        {
          "output_type": "execute_result",
          "data": {
            "application/vnd.google.colaboratory.intrinsic+json": {
              "type": "string"
            },
            "text/plain": [
              "'spamspamspam'"
            ]
          },
          "metadata": {
            "tags": []
          },
          "execution_count": 4
        }
      ]
    },
    {
      "cell_type": "markdown",
      "metadata": {
        "id": "Qc7ECMLRogza"
      },
      "source": [
        "#8. Why is eggs a valid variable name while 100 is invalid?\n",
        "\n",
        "----> Variable name should start from letter.\n",
        "\n",
        "variable name can be combination of letter, digit and some special characters.\n",
        "\n",
        "we cannot give dafault keywords name to variable. \n",
        "\n",
        "eggs is starting with letter so it is valid variable namee whereas 100 is number which starts with digit."
      ]
    },
    {
      "cell_type": "markdown",
      "metadata": {
        "id": "Xiyt9ynEG1Yi"
      },
      "source": [
        "#9. What three functions can be used to get the integer, floating-point number, or string version of a value?\n",
        "\n",
        "--> we can use int(), str() and float()."
      ]
    },
    {
      "cell_type": "code",
      "metadata": {
        "id": "bq_ShXgBoDiT"
      },
      "source": [
        "a=int(3.4)"
      ],
      "execution_count": 1,
      "outputs": []
    },
    {
      "cell_type": "code",
      "metadata": {
        "colab": {
          "base_uri": "https://localhost:8080/"
        },
        "id": "_dyKmfNQHXvs",
        "outputId": "f26340ff-ee35-46a5-f146-5d18fc827f32"
      },
      "source": [
        "a"
      ],
      "execution_count": 2,
      "outputs": [
        {
          "output_type": "execute_result",
          "data": {
            "text/plain": [
              "3"
            ]
          },
          "metadata": {
            "tags": []
          },
          "execution_count": 2
        }
      ]
    },
    {
      "cell_type": "code",
      "metadata": {
        "id": "FCtdo429HYnl"
      },
      "source": [
        "b=str(12)"
      ],
      "execution_count": 3,
      "outputs": []
    },
    {
      "cell_type": "code",
      "metadata": {
        "colab": {
          "base_uri": "https://localhost:8080/",
          "height": 35
        },
        "id": "ddUeDSYiHcRh",
        "outputId": "0fae3fc7-a44a-475f-9d4c-0c4ff55a7078"
      },
      "source": [
        "b\n"
      ],
      "execution_count": 4,
      "outputs": [
        {
          "output_type": "execute_result",
          "data": {
            "application/vnd.google.colaboratory.intrinsic+json": {
              "type": "string"
            },
            "text/plain": [
              "'12'"
            ]
          },
          "metadata": {
            "tags": []
          },
          "execution_count": 4
        }
      ]
    },
    {
      "cell_type": "code",
      "metadata": {
        "id": "NzbVuFA-Hdn4"
      },
      "source": [
        "c=float(3)"
      ],
      "execution_count": 5,
      "outputs": []
    },
    {
      "cell_type": "code",
      "metadata": {
        "colab": {
          "base_uri": "https://localhost:8080/"
        },
        "id": "Xvq54YMsHhWD",
        "outputId": "093452cd-afa2-487a-a7f8-e27355c4fa8e"
      },
      "source": [
        "c"
      ],
      "execution_count": 7,
      "outputs": [
        {
          "output_type": "execute_result",
          "data": {
            "text/plain": [
              "3.0"
            ]
          },
          "metadata": {
            "tags": []
          },
          "execution_count": 7
        }
      ]
    },
    {
      "cell_type": "markdown",
      "metadata": {
        "id": "PK8vygVsHl0Z"
      },
      "source": [
        "#10. Why does this expression cause an error? How can you fix it? \n",
        " # &#39;I have eaten &#39; + 99 + &#39; burritos.&#39;\n",
        "\n",
        "\n",
        " ---> + operator is concatenation operator. It joins more than 2 strings. In given eg. 99 is number so we have to convert that number in string form."
      ]
    },
    {
      "cell_type": "code",
      "metadata": {
        "colab": {
          "base_uri": "https://localhost:8080/",
          "height": 35
        },
        "id": "m95Qn8hMHiOi",
        "outputId": "bba40689-bb44-4266-b539-30c88dd1aea9"
      },
      "source": [
        "'I have eaten ' + '99' + ' burritos.'"
      ],
      "execution_count": 9,
      "outputs": [
        {
          "output_type": "execute_result",
          "data": {
            "application/vnd.google.colaboratory.intrinsic+json": {
              "type": "string"
            },
            "text/plain": [
              "'I have eaten 99 burritos.'"
            ]
          },
          "metadata": {
            "tags": []
          },
          "execution_count": 9
        }
      ]
    }
  ]
}