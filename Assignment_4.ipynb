{
  "nbformat": 4,
  "nbformat_minor": 0,
  "metadata": {
    "colab": {
      "name": "Assignment 4.ipynb",
      "provenance": [],
      "collapsed_sections": []
    },
    "kernelspec": {
      "name": "python3",
      "display_name": "Python 3"
    },
    "language_info": {
      "name": "python"
    }
  },
  "cells": [
    {
      "cell_type": "markdown",
      "metadata": {
        "id": "M94vwbM29SjS"
      },
      "source": [
        "#Nikita Nagraj"
      ]
    },
    {
      "cell_type": "markdown",
      "metadata": {
        "id": "1NlvGpeH9WBL"
      },
      "source": [
        "#1. What exactly is []?\n",
        "\n",
        "---> List is represented by square brackets. List is a type of data collection in core python. we can store homogeneous types of item in list. List is mutable data collection.List is dynamic."
      ]
    },
    {
      "cell_type": "markdown",
      "metadata": {
        "id": "VJtIH5ck96mx"
      },
      "source": [
        "#2. In a list of values stored in a variable called spam, how would you assign the value &#39;hello&#39; as the\n",
        "third value? (Assume [2, 4, 6, 8, 10] are in spam.)"
      ]
    },
    {
      "cell_type": "code",
      "metadata": {
        "colab": {
          "base_uri": "https://localhost:8080/"
        },
        "id": "C8QpTB539Nus",
        "outputId": "86234a86-e444-477b-cadb-f6861b3ae02b"
      },
      "source": [
        "##Ans\n",
        "spam=[2,4,6,8,10]\n",
        "spam[2]=\"hello\"\n",
        "spam"
      ],
      "execution_count": null,
      "outputs": [
        {
          "output_type": "execute_result",
          "data": {
            "text/plain": [
              "[2, 4, 'hello', 8, 10]"
            ]
          },
          "metadata": {
            "tags": []
          },
          "execution_count": 1
        }
      ]
    },
    {
      "cell_type": "markdown",
      "metadata": {
        "id": "3n9cd6XK-QRI"
      },
      "source": [
        "#Let&#39;s pretend the spam includes the list [&#39;a&#39;, &#39;b&#39;, &#39;c&#39;, &#39;d&#39;] for the next three queries."
      ]
    },
    {
      "cell_type": "code",
      "metadata": {
        "id": "Ru25qSRE-f7L"
      },
      "source": [
        "spam=['a','b','c','d']"
      ],
      "execution_count": null,
      "outputs": []
    },
    {
      "cell_type": "markdown",
      "metadata": {
        "id": "DAW4NKIs-cC4"
      },
      "source": [
        "#3. What is the value of spam[int(int(&#39;3&#39; * 2) / 11)]?"
      ]
    },
    {
      "cell_type": "code",
      "metadata": {
        "colab": {
          "base_uri": "https://localhost:8080/",
          "height": 35
        },
        "id": "D3r4ecte-Ld2",
        "outputId": "055abcc2-e75a-42a7-a6ae-f83fbd057019"
      },
      "source": [
        "#Ans\n",
        "spam[int(int('3'*2)/11)]"
      ],
      "execution_count": null,
      "outputs": [
        {
          "output_type": "execute_result",
          "data": {
            "application/vnd.google.colaboratory.intrinsic+json": {
              "type": "string"
            },
            "text/plain": [
              "'d'"
            ]
          },
          "metadata": {
            "tags": []
          },
          "execution_count": 3
        }
      ]
    },
    {
      "cell_type": "markdown",
      "metadata": {
        "id": "CsUlony7_whE"
      },
      "source": [
        "#4. What is the value of spam[-1]?\n",
        "\n",
        "--->'d'"
      ]
    },
    {
      "cell_type": "code",
      "metadata": {
        "colab": {
          "base_uri": "https://localhost:8080/",
          "height": 35
        },
        "id": "1dAXDzmC_gZP",
        "outputId": "83e27793-99fd-488d-c9db-45c0bedb23e0"
      },
      "source": [
        "spam[-1]"
      ],
      "execution_count": null,
      "outputs": [
        {
          "output_type": "execute_result",
          "data": {
            "application/vnd.google.colaboratory.intrinsic+json": {
              "type": "string"
            },
            "text/plain": [
              "'d'"
            ]
          },
          "metadata": {
            "tags": []
          },
          "execution_count": 5
        }
      ]
    },
    {
      "cell_type": "markdown",
      "metadata": {
        "id": "4KUWUDeI_32B"
      },
      "source": [
        "#5. What is the value of spam[:2]?\n",
        "\n",
        "--->['a','b']"
      ]
    },
    {
      "cell_type": "code",
      "metadata": {
        "colab": {
          "base_uri": "https://localhost:8080/"
        },
        "id": "yfnEnwEn_2po",
        "outputId": "42a353bd-f15a-46c9-d9f0-9a586187653a"
      },
      "source": [
        "spam[:2]"
      ],
      "execution_count": null,
      "outputs": [
        {
          "output_type": "execute_result",
          "data": {
            "text/plain": [
              "['a', 'b']"
            ]
          },
          "metadata": {
            "tags": []
          },
          "execution_count": 6
        }
      ]
    },
    {
      "cell_type": "markdown",
      "metadata": {
        "id": "MoTjr6fdALHh"
      },
      "source": [
        "#Let&#39;s pretend bacon has the list [3.14, &#39;cat,&#39; 11, &#39;cat,&#39; True] for the next three questions."
      ]
    },
    {
      "cell_type": "code",
      "metadata": {
        "id": "362zfqpGAHAB"
      },
      "source": [
        "bacon=[3.14,'cat',11,'cat',True]"
      ],
      "execution_count": null,
      "outputs": []
    },
    {
      "cell_type": "markdown",
      "metadata": {
        "id": "418I4f9AAfEb"
      },
      "source": [
        "#6. What is the value of bacon.index(&#39;cat&#39;)?\n",
        "\n",
        "\n",
        "--->1"
      ]
    },
    {
      "cell_type": "code",
      "metadata": {
        "colab": {
          "base_uri": "https://localhost:8080/"
        },
        "id": "LKQv_5LuAds4",
        "outputId": "a99cd3ff-988c-4ece-d776-734da5df4a7a"
      },
      "source": [
        "bacon.index('cat')"
      ],
      "execution_count": null,
      "outputs": [
        {
          "output_type": "execute_result",
          "data": {
            "text/plain": [
              "1"
            ]
          },
          "metadata": {
            "tags": []
          },
          "execution_count": 8
        }
      ]
    },
    {
      "cell_type": "markdown",
      "metadata": {
        "id": "FyScZ4thAtD_"
      },
      "source": [
        "#7. How does bacon.append(99) change the look of the list value in bacon?\n",
        "\n",
        "---> it append value 99 at the end of the list"
      ]
    },
    {
      "cell_type": "code",
      "metadata": {
        "id": "xf9MUgorAnTY"
      },
      "source": [
        "bacon.append(99)"
      ],
      "execution_count": null,
      "outputs": []
    },
    {
      "cell_type": "code",
      "metadata": {
        "colab": {
          "base_uri": "https://localhost:8080/"
        },
        "id": "oeIZetQcA8VH",
        "outputId": "bd59262d-6f75-4317-bebb-350731fdc667"
      },
      "source": [
        "bacon"
      ],
      "execution_count": null,
      "outputs": [
        {
          "output_type": "execute_result",
          "data": {
            "text/plain": [
              "[3.14, 'cat', 11, 'cat', True, 99]"
            ]
          },
          "metadata": {
            "tags": []
          },
          "execution_count": 10
        }
      ]
    },
    {
      "cell_type": "markdown",
      "metadata": {
        "id": "OAJNNfUhA_jr"
      },
      "source": [
        "#8. How does bacon.remove(&#39;cat&#39;) change the look of the list in bacon?\n",
        "\n",
        "---> It will remove first cat value from the list."
      ]
    },
    {
      "cell_type": "code",
      "metadata": {
        "id": "wmpuJ2_hA9R1"
      },
      "source": [
        "bacon.remove('cat')"
      ],
      "execution_count": null,
      "outputs": []
    },
    {
      "cell_type": "code",
      "metadata": {
        "colab": {
          "base_uri": "https://localhost:8080/"
        },
        "id": "Mz8H5-aABOO_",
        "outputId": "6bd0c8f6-8ab3-4c47-800a-7487c4fe0bfa"
      },
      "source": [
        "bacon"
      ],
      "execution_count": null,
      "outputs": [
        {
          "output_type": "execute_result",
          "data": {
            "text/plain": [
              "[3.14, 11, 'cat', True, 99]"
            ]
          },
          "metadata": {
            "tags": []
          },
          "execution_count": 12
        }
      ]
    },
    {
      "cell_type": "markdown",
      "metadata": {
        "id": "ZDocs0phBZmJ"
      },
      "source": [
        "#9. What are the list concatenation and list replication operators?\n",
        "\n",
        "---> list concatenation is represented by + and replication operator is represented by *.\n",
        "\n",
        "Using concatenation we can join multiple list.\n",
        "\n",
        "using replication we can replicate the data.\n",
        "\n",
        "example-"
      ]
    },
    {
      "cell_type": "code",
      "metadata": {
        "colab": {
          "base_uri": "https://localhost:8080/"
        },
        "id": "va5XIIF2BPjK",
        "outputId": "81448291-06db-4c36-cf29-d08568eada7c"
      },
      "source": [
        "a=[1,2,3,\"cat\",8.3]\n",
        "b=[4,\"dog\",3,2,10]\n",
        "a+b"
      ],
      "execution_count": null,
      "outputs": [
        {
          "output_type": "execute_result",
          "data": {
            "text/plain": [
              "[1, 2, 3, 'cat', 8.3, 4, 'dog', 3, 2, 10]"
            ]
          },
          "metadata": {
            "tags": []
          },
          "execution_count": 13
        }
      ]
    },
    {
      "cell_type": "code",
      "metadata": {
        "colab": {
          "base_uri": "https://localhost:8080/"
        },
        "id": "8kg-yhiiEMrD",
        "outputId": "52b305e1-7b51-4c89-855c-7dda3724a414"
      },
      "source": [
        "a=[\"spam\"]\n",
        "a*4"
      ],
      "execution_count": null,
      "outputs": [
        {
          "output_type": "execute_result",
          "data": {
            "text/plain": [
              "['spam', 'spam', 'spam', 'spam']"
            ]
          },
          "metadata": {
            "tags": []
          },
          "execution_count": 14
        }
      ]
    },
    {
      "cell_type": "markdown",
      "metadata": {
        "id": "2PC9aaF9EkcI"
      },
      "source": [
        "#10. What is difference between the list methods append() and insert()?\n",
        "\n",
        "---> append()\n",
        "     append function appends the elements at the end of the list\n",
        "\n",
        "     insert function can insert the element at the specified index and moves the remaining elements.\n",
        "\n",
        "     example-"
      ]
    },
    {
      "cell_type": "code",
      "metadata": {
        "colab": {
          "base_uri": "https://localhost:8080/"
        },
        "id": "bwzns0AyEWPr",
        "outputId": "4b18ba6b-ed99-4f87-d9a6-d8bf391c3dee"
      },
      "source": [
        "li=[1,2,3,'cat']\n",
        "li.append(6)\n",
        "li"
      ],
      "execution_count": null,
      "outputs": [
        {
          "output_type": "execute_result",
          "data": {
            "text/plain": [
              "[1, 2, 3, 'cat', 6]"
            ]
          },
          "metadata": {
            "tags": []
          },
          "execution_count": 22
        }
      ]
    },
    {
      "cell_type": "code",
      "metadata": {
        "colab": {
          "base_uri": "https://localhost:8080/"
        },
        "id": "rQA36uwoFEi7",
        "outputId": "966a4488-686d-4001-f97b-b200b14911a6"
      },
      "source": [
        "li.insert(1,\"dog\")\n",
        "li"
      ],
      "execution_count": null,
      "outputs": [
        {
          "output_type": "execute_result",
          "data": {
            "text/plain": [
              "[1, 'dog', 2, 3, 'cat', 6]"
            ]
          },
          "metadata": {
            "tags": []
          },
          "execution_count": 23
        }
      ]
    },
    {
      "cell_type": "markdown",
      "metadata": {
        "id": "1ziaRQwaFkBp"
      },
      "source": [
        "#11. What are the two methods for removing items from a list?\n",
        "\n",
        "---> remove() and pop() can remove the items from a list.\n",
        "\n",
        "remove() can remove item from the list.In remove() we have to specify the value which we want to remove. It removes first occurance of value.\n",
        "\n",
        "pop() can remove last element from the list. if you specify index inside pop() then it can remove the value at specified index.\n",
        "\n",
        "example-"
      ]
    },
    {
      "cell_type": "code",
      "metadata": {
        "colab": {
          "base_uri": "https://localhost:8080/"
        },
        "id": "-6lvtMvWFYqS",
        "outputId": "9d1f0183-a3c1-470e-d20a-53d5301a9d5a"
      },
      "source": [
        "li=[1,2,3,4,'cat',4.6,'dog',7,2]       #remove value 2 which occured first in a list\n",
        "li.remove(2)\n",
        "li"
      ],
      "execution_count": null,
      "outputs": [
        {
          "output_type": "execute_result",
          "data": {
            "text/plain": [
              "[1, 3, 4, 'cat', 4.6, 'dog', 7, 2]"
            ]
          },
          "metadata": {
            "tags": []
          },
          "execution_count": 28
        }
      ]
    },
    {
      "cell_type": "code",
      "metadata": {
        "colab": {
          "base_uri": "https://localhost:8080/"
        },
        "id": "2v0qX6htGRal",
        "outputId": "54b476c3-6ab1-486d-9f73-025f99d39981"
      },
      "source": [
        "li.pop()      #remove last element\n",
        "li"
      ],
      "execution_count": null,
      "outputs": [
        {
          "output_type": "execute_result",
          "data": {
            "text/plain": [
              "[1, 3, 4, 'cat', 4.6, 'dog', 7]"
            ]
          },
          "metadata": {
            "tags": []
          },
          "execution_count": 29
        }
      ]
    },
    {
      "cell_type": "code",
      "metadata": {
        "colab": {
          "base_uri": "https://localhost:8080/"
        },
        "id": "ANlDZyUwGlNL",
        "outputId": "45f925ce-5347-4d98-dd3d-347a06fb96bf"
      },
      "source": [
        "li.pop(1)       #remove value which is at index location 1\n",
        "li"
      ],
      "execution_count": null,
      "outputs": [
        {
          "output_type": "execute_result",
          "data": {
            "text/plain": [
              "[1, 4, 'cat', 4.6, 'dog', 7]"
            ]
          },
          "metadata": {
            "tags": []
          },
          "execution_count": 30
        }
      ]
    },
    {
      "cell_type": "markdown",
      "metadata": {
        "id": "X2L_GaxaHrMz"
      },
      "source": [
        "#12. Describe how list values and string values are identical.\n",
        "\n",
        "--->we can access list and string values using index.\n",
        "\n",
        "list is mutable and string is immutable type of data collection.\n",
        "\n",
        "string stores each characters at consecutive level whereas list stores reference of elements.\n",
        "\n"
      ]
    },
    {
      "cell_type": "markdown",
      "metadata": {
        "id": "y6HQN3YvJQ0V"
      },
      "source": [
        "#13. What&#39;s the difference between tuples and lists?\n",
        "\n",
        "---> List is mutable typr of data collection. We can update the values of list. List is represented by [].\n",
        "\n",
        "List is dynamic.\n",
        "\n",
        "Tuple is immutable type of data collection. Tuple is represented by (). If we need to update tuple then we have to convert it into list and again back to tuple.\n",
        "\n",
        "Tuple is static"
      ]
    },
    {
      "cell_type": "markdown",
      "metadata": {
        "id": "M221gxYsKals"
      },
      "source": [
        "#14. How do you type a tuple value that only contains the integer 42?"
      ]
    },
    {
      "cell_type": "code",
      "metadata": {
        "colab": {
          "base_uri": "https://localhost:8080/"
        },
        "id": "oydL4PvuJJTT",
        "outputId": "557a8bb2-1546-4704-d1f2-c21d8e991188"
      },
      "source": [
        "#Ans\n",
        "t=(42,)\n",
        "t"
      ],
      "execution_count": null,
      "outputs": [
        {
          "output_type": "execute_result",
          "data": {
            "text/plain": [
              "(42,)"
            ]
          },
          "metadata": {
            "tags": []
          },
          "execution_count": 33
        }
      ]
    },
    {
      "cell_type": "markdown",
      "metadata": {
        "id": "Um5LM7FJd10h"
      },
      "source": [
        "#15. How do you get a list value&#39;s tuple form? How do you get a tuple value&#39;s list form?\n",
        "\n"
      ]
    },
    {
      "cell_type": "code",
      "metadata": {
        "colab": {
          "base_uri": "https://localhost:8080/"
        },
        "id": "PX0Rpietdmh4",
        "outputId": "1c536203-5885-4b12-f8f4-4c2af9501142"
      },
      "source": [
        "l=list((1,2,3,4))  #tuple values in list format\n",
        "l"
      ],
      "execution_count": null,
      "outputs": [
        {
          "output_type": "execute_result",
          "data": {
            "text/plain": [
              "[1, 2, 3, 4]"
            ]
          },
          "metadata": {
            "tags": []
          },
          "execution_count": 39
        }
      ]
    },
    {
      "cell_type": "code",
      "metadata": {
        "colab": {
          "base_uri": "https://localhost:8080/"
        },
        "id": "FtzpdVv7d8qO",
        "outputId": "cf9e99d5-37c5-467e-934b-7143758ec07e"
      },
      "source": [
        "t=tuple([1,2,3,4])   #list values in tuple format\n",
        "t"
      ],
      "execution_count": null,
      "outputs": [
        {
          "output_type": "execute_result",
          "data": {
            "text/plain": [
              "(1, 2, 3, 4)"
            ]
          },
          "metadata": {
            "tags": []
          },
          "execution_count": 40
        }
      ]
    },
    {
      "cell_type": "markdown",
      "metadata": {
        "id": "jOZxuknHeYpE"
      },
      "source": [
        "#16. Variables that &quot;contain&quot; list values are not necessarily lists themselves. Instead, what do they contain?\n",
        "\n",
        "---> List can contain different types of data like tuple, set."
      ]
    },
    {
      "cell_type": "code",
      "metadata": {
        "colab": {
          "base_uri": "https://localhost:8080/"
        },
        "id": "cNhV0FwIewf8",
        "outputId": "49ef8a09-bacb-4e53-be40-d7386178df78"
      },
      "source": [
        "#eg.\n",
        "l=[1,2,3,[3,4,5],(3,4,5),{2,3},\"cat\",True]\n",
        "l"
      ],
      "execution_count": null,
      "outputs": [
        {
          "output_type": "execute_result",
          "data": {
            "text/plain": [
              "[1, 2, 3, [3, 4, 5], (3, 4, 5), {2, 3}, 'cat', True]"
            ]
          },
          "metadata": {
            "tags": []
          },
          "execution_count": 41
        }
      ]
    },
    {
      "cell_type": "markdown",
      "metadata": {
        "id": "tOOnrS9TecHJ"
      },
      "source": [
        "#17. How do you distinguish between copy.copy() and copy.deepcopy()?\n",
        "\n",
        "---> copy.copy()- This function creates shallow copy . Itis only one level deep. It wont create copy of child objects.\n",
        "\n",
        "copy.deepcopy()- Any changes made to copy of object doesnt reflect in original copy. It creates fully independent objects."
      ]
    },
    {
      "cell_type": "code",
      "metadata": {
        "id": "hZqIHX89eJYI"
      },
      "source": [
        "#eg.\n",
        "import copy\n",
        "l=[1,2,3,4]\n"
      ],
      "execution_count": 1,
      "outputs": []
    },
    {
      "cell_type": "code",
      "metadata": {
        "id": "i3Sgdqiki5Z4"
      },
      "source": [
        "l1=copy.copy(l)"
      ],
      "execution_count": 2,
      "outputs": []
    },
    {
      "cell_type": "code",
      "metadata": {
        "id": "6avfI9KhjAe_"
      },
      "source": [
        "l1.append(5)"
      ],
      "execution_count": 3,
      "outputs": []
    },
    {
      "cell_type": "code",
      "metadata": {
        "colab": {
          "base_uri": "https://localhost:8080/"
        },
        "id": "NqaAAMRJjFW5",
        "outputId": "48296eb5-1187-4e4a-a618-1f61f996bcbe"
      },
      "source": [
        "l1"
      ],
      "execution_count": 4,
      "outputs": [
        {
          "output_type": "execute_result",
          "data": {
            "text/plain": [
              "[1, 2, 3, 4, 5]"
            ]
          },
          "metadata": {
            "tags": []
          },
          "execution_count": 4
        }
      ]
    },
    {
      "cell_type": "code",
      "metadata": {
        "colab": {
          "base_uri": "https://localhost:8080/"
        },
        "id": "7CZmle-ajHK_",
        "outputId": "9d53e0a7-2b1e-4645-a9d1-b61c7c7f6af3"
      },
      "source": [
        "l"
      ],
      "execution_count": 5,
      "outputs": [
        {
          "output_type": "execute_result",
          "data": {
            "text/plain": [
              "[1, 2, 3, 4]"
            ]
          },
          "metadata": {
            "tags": []
          },
          "execution_count": 5
        }
      ]
    },
    {
      "cell_type": "code",
      "metadata": {
        "colab": {
          "base_uri": "https://localhost:8080/"
        },
        "id": "jKZ-9Qq5jIVS",
        "outputId": "5d8411ea-7b9e-41c5-c995-7f8cfa5a2e43"
      },
      "source": [
        "l2=copy.deepcopy(l)\n",
        "l2"
      ],
      "execution_count": 7,
      "outputs": [
        {
          "output_type": "execute_result",
          "data": {
            "text/plain": [
              "[1, 2, 3, 4]"
            ]
          },
          "metadata": {
            "tags": []
          },
          "execution_count": 7
        }
      ]
    },
    {
      "cell_type": "code",
      "metadata": {
        "id": "IdvsVrmRjTbF"
      },
      "source": [
        "l2.append(6)"
      ],
      "execution_count": 8,
      "outputs": []
    },
    {
      "cell_type": "code",
      "metadata": {
        "colab": {
          "base_uri": "https://localhost:8080/"
        },
        "id": "gQ1GMhS3jZwQ",
        "outputId": "23cd14dd-59ea-457e-c6cb-f837b83f6ae7"
      },
      "source": [
        "l2"
      ],
      "execution_count": 9,
      "outputs": [
        {
          "output_type": "execute_result",
          "data": {
            "text/plain": [
              "[1, 2, 3, 4, 6]"
            ]
          },
          "metadata": {
            "tags": []
          },
          "execution_count": 9
        }
      ]
    },
    {
      "cell_type": "code",
      "metadata": {
        "colab": {
          "base_uri": "https://localhost:8080/"
        },
        "id": "ZTcU9EKyjaqL",
        "outputId": "d7e559dc-24f2-4632-cf1e-a8ceda0f5ac5"
      },
      "source": [
        "\n",
        "l"
      ],
      "execution_count": 10,
      "outputs": [
        {
          "output_type": "execute_result",
          "data": {
            "text/plain": [
              "[1, 2, 3, 4]"
            ]
          },
          "metadata": {
            "tags": []
          },
          "execution_count": 10
        }
      ]
    },
    {
      "cell_type": "code",
      "metadata": {
        "id": "vA001CAWjbx7"
      },
      "source": [
        ""
      ],
      "execution_count": null,
      "outputs": []
    }
  ]
}