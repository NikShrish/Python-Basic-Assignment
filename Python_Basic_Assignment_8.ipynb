{
  "nbformat": 4,
  "nbformat_minor": 0,
  "metadata": {
    "colab": {
      "name": "Python_Basic_Assignment_8.ipynb",
      "provenance": []
    },
    "kernelspec": {
      "name": "python3",
      "display_name": "Python 3"
    },
    "language_info": {
      "name": "python"
    }
  },
  "cells": [
    {
      "cell_type": "markdown",
      "metadata": {
        "id": "z5hIFMzi0BMu"
      },
      "source": [
        "1. Is the Python Standard Library included with PyInputPlus?\n",
        "2. Why is PyInputPlus commonly imported with import pyinputplus as pypi?\n",
        "3. How do you distinguish between inputInt() and inputFloat()?\n",
        "4. Using PyInputPlus, how do you ensure that the user enters a whole number between 0 and 99?\n",
        "5. What is transferred to the keyword arguments allowRegexes and blockRegexes?\n",
        "6. If a blank input is entered three times, what does inputStr(limit=3) do?\n",
        "7. If blank input is entered three times, what does inputStr(limit=3, default=&#39;hello&#39;) do?"
      ]
    },
    {
      "cell_type": "markdown",
      "metadata": {
        "id": "_kPDkRF50El4"
      },
      "source": [
        "###1. Is the Python Standard Library included with PyInputPlus?\n",
        "\n",
        "   No, we have to install it seperately."
      ]
    },
    {
      "cell_type": "markdown",
      "metadata": {
        "id": "GDWJVQth1xRG"
      },
      "source": [
        "###2. Why is PyInputPlus commonly imported with import pyinputplus as pypi?\n",
        "\n",
        "   pypi is shorter name of pyinputplus so it is recommended to import as pypi."
      ]
    },
    {
      "cell_type": "markdown",
      "metadata": {
        "id": "uSovkEPc2dZT"
      },
      "source": [
        "###3. How do you distinguish between inputInt() and inputFloat()?\n",
        "\n",
        "\n",
        "  If you want data as integer from user then we can use inputInt(). \n",
        "  If you want data in float format then we can use inputFloat()."
      ]
    },
    {
      "cell_type": "markdown",
      "metadata": {
        "id": "TNOVLx1O2-LK"
      },
      "source": [
        "###4. Using PyInputPlus, how do you ensure that the user enters a whole number between 0 and 99?"
      ]
    },
    {
      "cell_type": "code",
      "metadata": {
        "colab": {
          "base_uri": "https://localhost:8080/"
        },
        "id": "i6NuC6ND0CQT",
        "outputId": "8a8dc77b-5c5f-44a3-ca54-24e3c1a0ce0d"
      },
      "source": [
        "pip install PyInputPlus"
      ],
      "execution_count": 1,
      "outputs": [
        {
          "output_type": "stream",
          "text": [
            "Collecting PyInputPlus\n",
            "  Downloading https://files.pythonhosted.org/packages/6a/d4/afb45ed88323ef6d3c4cbf48e9c1bac38059a168b8392a56f3b8f9d1d39c/PyInputPlus-0.2.12.tar.gz\n",
            "  Installing build dependencies ... \u001b[?25l\u001b[?25hdone\n",
            "  Getting requirements to build wheel ... \u001b[?25l\u001b[?25hdone\n",
            "    Preparing wheel metadata ... \u001b[?25l\u001b[?25hdone\n",
            "Collecting stdiomask>=0.0.3\n",
            "  Downloading https://files.pythonhosted.org/packages/47/a2/f72fd263cecb11ed4cc96bd31608359e1df30349c665674e5c35ea9a72d6/stdiomask-0.0.6.tar.gz\n",
            "  Installing build dependencies ... \u001b[?25l\u001b[?25hdone\n",
            "  Getting requirements to build wheel ... \u001b[?25l\u001b[?25hdone\n",
            "    Preparing wheel metadata ... \u001b[?25l\u001b[?25hdone\n",
            "Collecting pysimplevalidate>=0.2.7\n",
            "  Downloading https://files.pythonhosted.org/packages/0b/54/8fd99436073dbdbba719e08e1b7e5f3f36a8cc9e518612e1b97e4806d2ce/PySimpleValidate-0.2.12.tar.gz\n",
            "  Installing build dependencies ... \u001b[?25l\u001b[?25hdone\n",
            "  Getting requirements to build wheel ... \u001b[?25l\u001b[?25hdone\n",
            "    Preparing wheel metadata ... \u001b[?25l\u001b[?25hdone\n",
            "Building wheels for collected packages: PyInputPlus, stdiomask, pysimplevalidate\n",
            "  Building wheel for PyInputPlus (PEP 517) ... \u001b[?25l\u001b[?25hdone\n",
            "  Created wheel for PyInputPlus: filename=PyInputPlus-0.2.12-cp37-none-any.whl size=11315 sha256=b15ed425007a4bd19e981cf9bed6a065a42a7e27c813a43959ca9fbe465a2d91\n",
            "  Stored in directory: /root/.cache/pip/wheels/6a/fe/06/583326d5cf9ab6319b08f44ffbb8b804acb97cec61274c4b7b\n",
            "  Building wheel for stdiomask (PEP 517) ... \u001b[?25l\u001b[?25hdone\n",
            "  Created wheel for stdiomask: filename=stdiomask-0.0.6-cp37-none-any.whl size=3320 sha256=3562241b7bcc62bc8f8b2af5dfdf31457664ed61e9bac7ab84ad666e193efaa0\n",
            "  Stored in directory: /root/.cache/pip/wheels/a6/ff/34/66b26f570405c34acc8f39b8ec3f27f5cbeea05234f18959fd\n",
            "  Building wheel for pysimplevalidate (PEP 517) ... \u001b[?25l\u001b[?25hdone\n",
            "  Created wheel for pysimplevalidate: filename=PySimpleValidate-0.2.12-cp37-none-any.whl size=16192 sha256=ed1d6934c2949f61ffe5883c172e2d931c4efad2611f541126935231d52d842e\n",
            "  Stored in directory: /root/.cache/pip/wheels/11/08/e4/f395618ca9df12cfd52aa0d916153584a7e277bd5e87cf2fc2\n",
            "Successfully built PyInputPlus stdiomask pysimplevalidate\n",
            "Installing collected packages: stdiomask, pysimplevalidate, PyInputPlus\n",
            "Successfully installed PyInputPlus-0.2.12 pysimplevalidate-0.2.12 stdiomask-0.0.6\n"
          ],
          "name": "stdout"
        }
      ]
    },
    {
      "cell_type": "code",
      "metadata": {
        "id": "m9HirX6lHA4I"
      },
      "source": [
        "import pyinputplus as pyin"
      ],
      "execution_count": 2,
      "outputs": []
    },
    {
      "cell_type": "code",
      "metadata": {
        "colab": {
          "base_uri": "https://localhost:8080/"
        },
        "id": "TvbOazgxwJF9",
        "outputId": "e390871f-64d0-4176-d8e1-6dea60d08ee5"
      },
      "source": [
        "num=pyin.inputInt(\"Enter number between 0 to 99=\",min=0, lessThan=100)"
      ],
      "execution_count": 4,
      "outputs": [
        {
          "output_type": "stream",
          "text": [
            "Enter number between 0 to 99=123\n",
            "Number must be less than 100.\n",
            "Enter number between 0 to 99=56\n"
          ],
          "name": "stdout"
        }
      ]
    },
    {
      "cell_type": "markdown",
      "metadata": {
        "id": "ISqtSQt-xESY"
      },
      "source": [
        "###5. What is transferred to the keyword arguments allowRegexes and blockRegexes?\n",
        "\n",
        "allowRegexes keyword determines that what input(regular expression) to be accept and blockRegexes keyword determines that what input to be reject."
      ]
    },
    {
      "cell_type": "markdown",
      "metadata": {
        "id": "DR_PJ93HRH63"
      },
      "source": [
        "###6. If a blank input is entered three times, what does inputStr(limit=3) do?\n",
        "\n",
        "If blank is true then we can enter blank only 3 times as limit is 3. and if blank is False then we will get validation Exception i.e. RetryLimitException"
      ]
    },
    {
      "cell_type": "markdown",
      "metadata": {
        "id": "l1ZgOxVLU89C"
      },
      "source": [
        "###7.If blank input is entered three times, what does inputStr(limit=3, default='hello') do?\n",
        "\n",
        "\n",
        "3 times we can enter the blank but 4th time it will directly display 'hello' word."
      ]
    },
    {
      "cell_type": "code",
      "metadata": {
        "colab": {
          "base_uri": "https://localhost:8080/",
          "height": 137
        },
        "id": "VOTyxAIIUWwe",
        "outputId": "b305fe6e-26d8-48a1-d965-1188967f5c4f"
      },
      "source": [
        "pyin.inputStr(limit=3, default='hello')"
      ],
      "execution_count": 15,
      "outputs": [
        {
          "output_type": "stream",
          "text": [
            "\n",
            "Blank values are not allowed.\n",
            "\n",
            "Blank values are not allowed.\n",
            "\n",
            "Blank values are not allowed.\n"
          ],
          "name": "stdout"
        },
        {
          "output_type": "execute_result",
          "data": {
            "application/vnd.google.colaboratory.intrinsic+json": {
              "type": "string"
            },
            "text/plain": [
              "'hello'"
            ]
          },
          "metadata": {
            "tags": []
          },
          "execution_count": 15
        }
      ]
    }
  ]
}