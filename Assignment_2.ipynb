{
  "nbformat": 4,
  "nbformat_minor": 0,
  "metadata": {
    "colab": {
      "name": "Assignment 2.ipynb",
      "provenance": []
    },
    "kernelspec": {
      "name": "python3",
      "display_name": "Python 3"
    },
    "language_info": {
      "name": "python"
    }
  },
  "cells": [
    {
      "cell_type": "markdown",
      "metadata": {
        "id": "1EPUWdPeKnbH"
      },
      "source": [
        "#Nikita Nagraj"
      ]
    },
    {
      "cell_type": "markdown",
      "metadata": {
        "id": "KHmjcitYKtCZ"
      },
      "source": [
        "# 1.What are the two values of the Boolean data type? How do you write them?\n",
        "\n",
        "---> There are two types of boolean data type namely True and False. \n",
        "\n",
        "we can represent boolean data types in form of True and False or 1 and 0."
      ]
    },
    {
      "cell_type": "markdown",
      "metadata": {
        "id": "_ae-jWsoLfuy"
      },
      "source": [
        "#2. What are the three different types of Boolean operators?\n",
        "\n",
        "--->and , or and not are the boolean operators in python.\n",
        "\n",
        "eg--> 1 and 1=1,  1 or 0 = 1"
      ]
    },
    {
      "cell_type": "markdown",
      "metadata": {
        "id": "A8miQKuRMPrM"
      },
      "source": [
        "#3. Make a list of each Boolean operator&#39;s truth tables (i.e. every possible combination of Boolean\n",
        "values for the operator and what it evaluate ).\n",
        "\n",
        "###--->and operator truth table is given below.\n",
        "\n",
        "    True and True = True\n",
        "\n",
        "    True and False = False\n",
        "\n",
        "    False and True = False\n",
        "\n",
        "    False and False=False\n",
        "\n",
        "  ### or operator truth table is given below.\n",
        "\n",
        "    True or True = True\n",
        "\n",
        "    True or False = True\n",
        "\n",
        "    False or True = True\n",
        "\n",
        "    False or False=False\n",
        "\n",
        "  ### not operator truth table is given below.\n",
        "\n",
        "     not True= False\n",
        "\n",
        "     not false= True"
      ]
    },
    {
      "cell_type": "code",
      "metadata": {
        "colab": {
          "base_uri": "https://localhost:8080/"
        },
        "id": "jbn_twBoKhyO",
        "outputId": "ed6fc8df-8684-4603-8309-cb93d216bcfe"
      },
      "source": [
        "\n",
        "not False"
      ],
      "execution_count": 3,
      "outputs": [
        {
          "output_type": "execute_result",
          "data": {
            "text/plain": [
              "True"
            ]
          },
          "metadata": {
            "tags": []
          },
          "execution_count": 3
        }
      ]
    },
    {
      "cell_type": "markdown",
      "metadata": {
        "id": "YsjZ2hZrNt6B"
      },
      "source": [
        "# 4. What are the values of the following expressions?\n",
        "\n",
        "(5 &gt; 4) and (3 == 5) ---> False\n",
        "\n",
        "not (5 &gt; 4)   ---> False\n",
        "\n",
        "(5 &gt; 4) or (3 == 5) ---> True\n",
        "\n",
        "not ((5 &gt; 4) or (3 == 5)) ---> False\n",
        "\n",
        "(True and True) and (True == False)---> False\n",
        "\n",
        "(not False) or (not True) ---> True"
      ]
    },
    {
      "cell_type": "markdown",
      "metadata": {
        "id": "YmFDtOmMOs6D"
      },
      "source": [
        "#5. What are the six comparison operators?\n",
        "\n",
        "==     (a==b)\n",
        "\n",
        "!=     (a!=b)\n",
        "\n",
        " ### >      (6>3)\n",
        "\n",
        " ### >=     (6>=6)\n",
        "\n",
        "<      (5<6)\n",
        "\n",
        " <=     (3<=3) \n"
      ]
    },
    {
      "cell_type": "markdown",
      "metadata": {
        "id": "5xQ-52EGQAqj"
      },
      "source": [
        "#6. How do you tell the difference between the equal to and assignment operators?Describe a condition and when you would use one.\n",
        "\n",
        "---> equal to operator is represented by == operator and assignment operator is represented by = operator.\n",
        "\n",
        "Whenever we want to do comparision of two variables then we have to use == operator.\n",
        "\n",
        "eg. if you want to check a and b variables are equal or not.\n",
        "\n",
        "a=5, b=6--->  a==b ( this expression will display False )\n",
        "\n",
        "whenever we want to assign value to variable then we have to use = operator.\n",
        "\n",
        "eg. a=5  (assigned value 6 to variable a)"
      ]
    },
    {
      "cell_type": "markdown",
      "metadata": {
        "id": "6NPytgcHRZJv"
      },
      "source": [
        "#7. Identify the three blocks in this code:\n",
        "spam = 0      ---> 1st block- variable declaration\n",
        "\n",
        "if spam == 10:   --->2nd block- if condition\n",
        "\n",
        "print(&#39;eggs&#39;)\n",
        "\n",
        "if spam &gt; 5:\n",
        "\n",
        "print(&#39;bacon&#39;)\n",
        "\n",
        "else:         ---->3rd block - else condition\n",
        "\n",
        "print(&#39;ham&#39;)\n",
        "\n",
        "print(&#39;spam&#39;)\n",
        "\n",
        "print(&#39;spam&#39;)"
      ]
    },
    {
      "cell_type": "markdown",
      "metadata": {
        "id": "DufqaPtgSPI8"
      },
      "source": [
        "#8. Write code that prints Hello if 1 is stored in spam, prints Howdy if 2 is stored in spam, and prints Greetings! if anything else is stored in spam."
      ]
    },
    {
      "cell_type": "code",
      "metadata": {
        "colab": {
          "base_uri": "https://localhost:8080/"
        },
        "id": "TqyzokX9P-U1",
        "outputId": "8b64ff88-a3f5-4d38-9a9c-428547e3ce4f"
      },
      "source": [
        "spam=3\n",
        "if spam==1:\n",
        "  print(\"Hello\")\n",
        "if spam==2: \n",
        "  print(\"Howdy\")\n",
        "else:\n",
        "  print(\"Greetings\")"
      ],
      "execution_count": 11,
      "outputs": [
        {
          "output_type": "stream",
          "text": [
            "Greetings\n"
          ],
          "name": "stdout"
        }
      ]
    },
    {
      "cell_type": "markdown",
      "metadata": {
        "id": "hb58BYkBS9o2"
      },
      "source": [
        "#9.If your programme is stuck in an endless loop, what keys you’ll press?\n",
        "\n",
        "---> CTRL + c"
      ]
    },
    {
      "cell_type": "markdown",
      "metadata": {
        "id": "HKRXbhFrTSsr"
      },
      "source": [
        "#10. How can you tell the difference between break and continue?\n",
        "\n",
        "---> break statement takes the control out of the loop and continue skip the execution of current loop and takes control again to the starting of the loop till condition satisfy.\n"
      ]
    },
    {
      "cell_type": "markdown",
      "metadata": {
        "id": "7MMIbJ5TVEmd"
      },
      "source": [
        "#11. In a for loop, what is the difference between range(10), range(0, 10), and range(0, 10, 1)?\n",
        "\n",
        "---> in a for loop there is no difference in given 3 range functions. Output of all the 3 function should be saame."
      ]
    },
    {
      "cell_type": "markdown",
      "metadata": {
        "id": "N-lOsgF2V5HC"
      },
      "source": [
        "#12. Write a short program that prints the numbers 1 to 10 using a for loop. Then write an equivalent program that prints the numbers 1 to 10 using a while loop."
      ]
    },
    {
      "cell_type": "code",
      "metadata": {
        "colab": {
          "base_uri": "https://localhost:8080/"
        },
        "id": "nnww0Mc7VKc3",
        "outputId": "7729790a-c980-41f4-b0e0-3e504be6082f"
      },
      "source": [
        "for p in range(1,11):\n",
        "  print(p)"
      ],
      "execution_count": 19,
      "outputs": [
        {
          "output_type": "stream",
          "text": [
            "1\n",
            "2\n",
            "3\n",
            "4\n",
            "5\n",
            "6\n",
            "7\n",
            "8\n",
            "9\n",
            "10\n"
          ],
          "name": "stdout"
        }
      ]
    },
    {
      "cell_type": "code",
      "metadata": {
        "colab": {
          "base_uri": "https://localhost:8080/"
        },
        "id": "ArtXkY-CXRjD",
        "outputId": "2677d2c0-16ca-4fe9-d896-bc3fb8d4d200"
      },
      "source": [
        "i=1\n",
        "while i in range(11):\n",
        "  print(i)\n",
        "  i=i+1\n",
        "  "
      ],
      "execution_count": 34,
      "outputs": [
        {
          "output_type": "stream",
          "text": [
            "1\n",
            "2\n",
            "3\n",
            "4\n",
            "5\n",
            "6\n",
            "7\n",
            "8\n",
            "9\n",
            "10\n"
          ],
          "name": "stdout"
        }
      ]
    },
    {
      "cell_type": "markdown",
      "metadata": {
        "id": "-KRza-G3YqZt"
      },
      "source": [
        "#13. If you had a function named bacon() inside a module named spam, how would you call it after importing spam?\n",
        "\n",
        "---> spam.bacon()"
      ]
    }
  ]
}