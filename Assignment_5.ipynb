{
  "nbformat": 4,
  "nbformat_minor": 0,
  "metadata": {
    "colab": {
      "name": "Assignment 5.ipynb",
      "provenance": [],
      "collapsed_sections": []
    },
    "kernelspec": {
      "name": "python3",
      "display_name": "Python 3"
    },
    "language_info": {
      "name": "python"
    }
  },
  "cells": [
    {
      "cell_type": "markdown",
      "metadata": {
        "id": "1zhZL3aeoRc0"
      },
      "source": [
        "#Nikita Nagraj"
      ]
    },
    {
      "cell_type": "markdown",
      "metadata": {
        "id": "CF7C3Fl7oazn"
      },
      "source": [
        "##1. What does an empty dictionary&#39;s code look like?\n",
        "\n",
        "---> It looks like empty set"
      ]
    },
    {
      "cell_type": "code",
      "metadata": {
        "colab": {
          "base_uri": "https://localhost:8080/"
        },
        "id": "muL-seL5pXR7",
        "outputId": "cebc8af5-32c3-4c35-f435-db5b60a78ec4"
      },
      "source": [
        "d={}\n",
        "type(d)"
      ],
      "execution_count": 2,
      "outputs": [
        {
          "output_type": "execute_result",
          "data": {
            "text/plain": [
              "dict"
            ]
          },
          "metadata": {
            "tags": []
          },
          "execution_count": 2
        }
      ]
    },
    {
      "cell_type": "markdown",
      "metadata": {
        "id": "1nXwePsUourh"
      },
      "source": [
        "##2. What is the value of a dictionary value with the key &#39;foo&#39; and the value 42?"
      ]
    },
    {
      "cell_type": "code",
      "metadata": {
        "colab": {
          "base_uri": "https://localhost:8080/"
        },
        "id": "wReNyp-NqVKz",
        "outputId": "c6d478a3-c543-43a3-8fdb-e90a6d8fea34"
      },
      "source": [
        "d={'foo':42}\n",
        "d"
      ],
      "execution_count": 3,
      "outputs": [
        {
          "output_type": "execute_result",
          "data": {
            "text/plain": [
              "{'foo': 42}"
            ]
          },
          "metadata": {
            "tags": []
          },
          "execution_count": 3
        }
      ]
    },
    {
      "cell_type": "code",
      "metadata": {
        "colab": {
          "base_uri": "https://localhost:8080/"
        },
        "id": "itvyYK-_qhZo",
        "outputId": "aa7cb2a2-fdc8-4826-f8e6-1d42847b086a"
      },
      "source": [
        "d.values()"
      ],
      "execution_count": 4,
      "outputs": [
        {
          "output_type": "execute_result",
          "data": {
            "text/plain": [
              "dict_values([42])"
            ]
          },
          "metadata": {
            "tags": []
          },
          "execution_count": 4
        }
      ]
    },
    {
      "cell_type": "markdown",
      "metadata": {
        "id": "_Fc_kjRio6vj"
      },
      "source": [
        "##3. What is the most significant distinction between a dictionary and a list?\n",
        "\n",
        "---> list is represented by [ ] and dictionary represented by { }. In dictionary we have to put data in key, value pair format.\n",
        "\n",
        "List can access using index position and dictionary can access using keys.\n",
        "\n",
        "List is ordered whereas dict is unordered."
      ]
    },
    {
      "cell_type": "markdown",
      "metadata": {
        "id": "yRgQ9GvHrABM"
      },
      "source": [
        "##4. What happens if you try to access spam[&#39;foo&#39;] if spam is {&#39;bar&#39;: 100}?\n",
        "\n",
        "---> keyError"
      ]
    },
    {
      "cell_type": "code",
      "metadata": {
        "id": "JARwS2VloJ4I"
      },
      "source": [
        "spam={'bar':100}"
      ],
      "execution_count": 5,
      "outputs": []
    },
    {
      "cell_type": "markdown",
      "metadata": {
        "id": "4dC7BoStrddF"
      },
      "source": [
        "##5. If a dictionary is stored in spam, what is the difference between the expressions &#39;cat&#39; in spam and &#39;cat&#39; in spam.keys()?\n",
        "\n",
        "--->  Both expression will check for 'cat' key and if 'cat' key present in dictionary then it will give result True else False."
      ]
    },
    {
      "cell_type": "code",
      "metadata": {
        "colab": {
          "base_uri": "https://localhost:8080/"
        },
        "id": "0j_IRU_5rRLG",
        "outputId": "fe9b10bd-8bee-46fd-9998-82f16bf121b3"
      },
      "source": [
        "spam={'cat':100}\n",
        "'cat' in spam.keys()"
      ],
      "execution_count": 7,
      "outputs": [
        {
          "output_type": "execute_result",
          "data": {
            "text/plain": [
              "True"
            ]
          },
          "metadata": {
            "tags": []
          },
          "execution_count": 7
        }
      ]
    },
    {
      "cell_type": "code",
      "metadata": {
        "colab": {
          "base_uri": "https://localhost:8080/"
        },
        "id": "YG7BJWARr5yk",
        "outputId": "57551d7e-19f7-48ee-faad-5565cf613467"
      },
      "source": [
        "'cat' in spam"
      ],
      "execution_count": 8,
      "outputs": [
        {
          "output_type": "execute_result",
          "data": {
            "text/plain": [
              "True"
            ]
          },
          "metadata": {
            "tags": []
          },
          "execution_count": 8
        }
      ]
    },
    {
      "cell_type": "code",
      "metadata": {
        "colab": {
          "base_uri": "https://localhost:8080/"
        },
        "id": "wZtnCwDBr9JP",
        "outputId": "bb2525da-6608-43fd-b342-93d0feff2a7a"
      },
      "source": [
        "spam={100:'cat'}\n",
        "'cat' in spam"
      ],
      "execution_count": 15,
      "outputs": [
        {
          "output_type": "execute_result",
          "data": {
            "text/plain": [
              "False"
            ]
          },
          "metadata": {
            "tags": []
          },
          "execution_count": 15
        }
      ]
    },
    {
      "cell_type": "code",
      "metadata": {
        "colab": {
          "base_uri": "https://localhost:8080/"
        },
        "id": "BpTQW15isKkf",
        "outputId": "54dd5f7d-d95d-4c89-a4d2-783aa2df9019"
      },
      "source": [
        "spam={'dog':100,'cat':100}\n",
        "'cat' in spam"
      ],
      "execution_count": 13,
      "outputs": [
        {
          "output_type": "execute_result",
          "data": {
            "text/plain": [
              "True"
            ]
          },
          "metadata": {
            "tags": []
          },
          "execution_count": 13
        }
      ]
    },
    {
      "cell_type": "markdown",
      "metadata": {
        "id": "1leJR7KfuZ5P"
      },
      "source": [
        "##6. If a dictionary is stored in spam, what is the difference between the expressions &#39;cat&#39; in spam and &#39;cat&#39; in spam.values()?\n",
        "\n",
        "---> 'cat' in spam.values()--if 'cat' present in values then it will display True.\n",
        "\n",
        "'cat' in spam will display True if and only if 'cat' is a key."
      ]
    },
    {
      "cell_type": "code",
      "metadata": {
        "id": "p59Zme06wxsB"
      },
      "source": [
        "spam={100:'cat'}"
      ],
      "execution_count": 19,
      "outputs": []
    },
    {
      "cell_type": "code",
      "metadata": {
        "colab": {
          "base_uri": "https://localhost:8080/"
        },
        "id": "y-fXV9TXs3IE",
        "outputId": "e707aa49-aa8a-430b-eda5-035a0f836b1d"
      },
      "source": [
        "'cat' in spam.values()"
      ],
      "execution_count": 16,
      "outputs": [
        {
          "output_type": "execute_result",
          "data": {
            "text/plain": [
              "True"
            ]
          },
          "metadata": {
            "tags": []
          },
          "execution_count": 16
        }
      ]
    },
    {
      "cell_type": "code",
      "metadata": {
        "colab": {
          "base_uri": "https://localhost:8080/"
        },
        "id": "3dUa4dFfut-F",
        "outputId": "dbba6657-26f7-41df-816e-503a04ec9f08"
      },
      "source": [
        "'cat' in spam"
      ],
      "execution_count": 17,
      "outputs": [
        {
          "output_type": "execute_result",
          "data": {
            "text/plain": [
              "False"
            ]
          },
          "metadata": {
            "tags": []
          },
          "execution_count": 17
        }
      ]
    },
    {
      "cell_type": "markdown",
      "metadata": {
        "id": "41pI5etUx-Pp"
      },
      "source": [
        "##7. What is a shortcut for the following code?\n",
        "\n",
        "if &#39;color&#39; not in spam:\n",
        "spam[&#39;color&#39;] = &#39;black&#39;\n",
        "\n",
        "---> we have to use setdefault function to add new key and values "
      ]
    },
    {
      "cell_type": "code",
      "metadata": {
        "colab": {
          "base_uri": "https://localhost:8080/",
          "height": 35
        },
        "id": "2EB_KFszu039",
        "outputId": "24c9b75f-c221-4cd1-e0b7-083bcf8a48cb"
      },
      "source": [
        "spam={'name':'nikita'}\n",
        "spam.setdefault('color','black')"
      ],
      "execution_count": 23,
      "outputs": [
        {
          "output_type": "execute_result",
          "data": {
            "application/vnd.google.colaboratory.intrinsic+json": {
              "type": "string"
            },
            "text/plain": [
              "'black'"
            ]
          },
          "metadata": {
            "tags": []
          },
          "execution_count": 23
        }
      ]
    },
    {
      "cell_type": "code",
      "metadata": {
        "colab": {
          "base_uri": "https://localhost:8080/"
        },
        "id": "RdNNP8kyyWwQ",
        "outputId": "93c66c8c-cd01-4d5e-d064-769654308382"
      },
      "source": [
        "spam"
      ],
      "execution_count": 24,
      "outputs": [
        {
          "output_type": "execute_result",
          "data": {
            "text/plain": [
              "{'color': 'black', 'name': 'nikita'}"
            ]
          },
          "metadata": {
            "tags": []
          },
          "execution_count": 24
        }
      ]
    },
    {
      "cell_type": "markdown",
      "metadata": {
        "id": "90DH_jYL0gJ2"
      },
      "source": [
        "##8. How do you &quot;pretty print&quot; dictionary values using which module and function?\n",
        "\n",
        "\n",
        "---> using pprint module and pprint function\n",
        "\n",
        "pprint.pprint(d.values())"
      ]
    },
    {
      "cell_type": "code",
      "metadata": {
        "id": "Uyu-CQ3d0K4f"
      },
      "source": [
        "import pprint"
      ],
      "execution_count": 25,
      "outputs": []
    },
    {
      "cell_type": "code",
      "metadata": {
        "colab": {
          "base_uri": "https://localhost:8080/"
        },
        "id": "WPhjz2zP1S7q",
        "outputId": "c8e94c86-01ca-49c5-89db-033b1c383b62"
      },
      "source": [
        "d={'name':'niki','age':30}\n",
        "pprint.pprint(d)"
      ],
      "execution_count": 28,
      "outputs": [
        {
          "output_type": "stream",
          "text": [
            "{'age': 30, 'name': 'niki'}\n"
          ],
          "name": "stdout"
        }
      ]
    },
    {
      "cell_type": "code",
      "metadata": {
        "colab": {
          "base_uri": "https://localhost:8080/"
        },
        "id": "HwQnjmsr1wOH",
        "outputId": "d49f55e9-d227-4dc6-f577-deb5f6938bdc"
      },
      "source": [
        "pprint.pprint(d.values())"
      ],
      "execution_count": 30,
      "outputs": [
        {
          "output_type": "stream",
          "text": [
            "dict_values(['niki', 30])\n"
          ],
          "name": "stdout"
        }
      ]
    }
  ]
}